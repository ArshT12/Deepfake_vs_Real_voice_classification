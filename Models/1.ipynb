{
 "cells": [
  {
   "cell_type": "code",
   "execution_count": 1,
   "metadata": {},
   "outputs": [
    {
     "name": "stdout",
     "output_type": "stream",
     "text": [
      "✅ Loaded Features: (39145, 181)\n",
      "✅ Loaded Labels: (39145,)\n"
     ]
    }
   ],
   "source": [
    "import numpy as np\n",
    "import pickle\n",
    "\n",
    "# Path to saved features\n",
    "features_file = \"/Volumes/T7/Capstone Proj/kagg/extracted_features.pkl\"\n",
    "\n",
    "# Load extracted features\n",
    "with open(features_file, \"rb\") as f:\n",
    "    X, y = pickle.load(f)\n",
    "\n",
    "print(f\"✅ Loaded Features: {X.shape}\")\n",
    "print(f\"✅ Loaded Labels: {y.shape}\")\n"
   ]
  },
  {
   "cell_type": "code",
   "execution_count": 2,
   "metadata": {},
   "outputs": [
    {
     "name": "stdout",
     "output_type": "stream",
     "text": [
      "\n",
      "🚀 Training Logistic Regression...\n"
     ]
    },
    {
     "name": "stderr",
     "output_type": "stream",
     "text": [
      "/opt/anaconda3/envs/Arsh/lib/python3.10/site-packages/sklearn/linear_model/_logistic.py:465: ConvergenceWarning: lbfgs failed to converge (status=1):\n",
      "STOP: TOTAL NO. OF ITERATIONS REACHED LIMIT.\n",
      "\n",
      "Increase the number of iterations (max_iter) or scale the data as shown in:\n",
      "    https://scikit-learn.org/stable/modules/preprocessing.html\n",
      "Please also refer to the documentation for alternative solver options:\n",
      "    https://scikit-learn.org/stable/modules/linear_model.html#logistic-regression\n",
      "  n_iter_i = _check_optimize_result(\n"
     ]
    },
    {
     "name": "stdout",
     "output_type": "stream",
     "text": [
      "✅ Logistic Regression Results:\n",
      "  📊 Accuracy: 0.9587\n",
      "  🎯 Precision: 0.9623\n",
      "  🔄 Recall: 0.9683\n",
      "  🏆 F1 Score: 0.9653\n",
      "\n",
      "🚀 Training Random Forest...\n",
      "✅ Random Forest Results:\n",
      "  📊 Accuracy: 0.9826\n",
      "  🎯 Precision: 0.9839\n",
      "  🔄 Recall: 0.9869\n",
      "  🏆 F1 Score: 0.9854\n",
      "\n",
      "🚀 Training XGBoost...\n"
     ]
    },
    {
     "name": "stderr",
     "output_type": "stream",
     "text": [
      "/opt/anaconda3/envs/Arsh/lib/python3.10/site-packages/xgboost/core.py:158: UserWarning: [17:48:11] WARNING: /var/folders/k1/30mswbxs7r1g6zwn8y4fyt500000gp/T/abs_d9k8pmaj4_/croot/xgboost-split_1724073758172/work/src/learner.cc:740: \n",
      "Parameters: { \"use_label_encoder\" } are not used.\n",
      "\n",
      "  warnings.warn(smsg, UserWarning)\n"
     ]
    },
    {
     "name": "stdout",
     "output_type": "stream",
     "text": [
      "✅ XGBoost Results:\n",
      "  📊 Accuracy: 0.9914\n",
      "  🎯 Precision: 0.9929\n",
      "  🔄 Recall: 0.9927\n",
      "  🏆 F1 Score: 0.9928\n",
      "\n",
      "🚀 Training SVM...\n",
      "✅ SVM Results:\n",
      "  📊 Accuracy: 0.9586\n",
      "  🎯 Precision: 0.9609\n",
      "  🔄 Recall: 0.9696\n",
      "  🏆 F1 Score: 0.9652\n",
      "\n",
      "📊 Model Performance Comparison:\n",
      "\n",
      "                     Accuracy  Precision    Recall  F1 Score\n",
      "Logistic Regression  0.958743   0.962296  0.968312  0.965295\n",
      "Random Forest        0.982629   0.983881  0.986851  0.985364\n",
      "XGBoost              0.991442   0.992885  0.992671  0.992778\n",
      "SVM                  0.958615   0.960906  0.969606  0.965236\n"
     ]
    }
   ],
   "source": [
    "import numpy as np\n",
    "import pandas as pd\n",
    "import pickle\n",
    "from sklearn.model_selection import train_test_split\n",
    "from sklearn.preprocessing import StandardScaler\n",
    "from sklearn.metrics import accuracy_score, precision_score, recall_score, f1_score\n",
    "from sklearn.linear_model import LogisticRegression\n",
    "from sklearn.ensemble import RandomForestClassifier\n",
    "from xgboost import XGBClassifier\n",
    "from sklearn.svm import SVC\n",
    "\n",
    "# Load saved features\n",
    "features_file = \"/Volumes/T7/Capstone Proj/kagg/extracted_features.pkl\"\n",
    "with open(features_file, \"rb\") as f:\n",
    "    X, y = pickle.load(f)\n",
    "\n",
    "# Split dataset into training & testing sets\n",
    "X_train, X_test, y_train, y_test = train_test_split(X, y, test_size=0.2, random_state=42, stratify=y)\n",
    "\n",
    "# Standardize features\n",
    "scaler = StandardScaler()\n",
    "X_train = scaler.fit_transform(X_train)\n",
    "X_test = scaler.transform(X_test)\n",
    "\n",
    "# Store models & results\n",
    "models = {\n",
    "    \"Logistic Regression\": LogisticRegression(),\n",
    "    \"Random Forest\": RandomForestClassifier(n_estimators=100),\n",
    "    \"XGBoost\": XGBClassifier(use_label_encoder=False, eval_metric=\"logloss\"),\n",
    "    \"SVM\": SVC(kernel=\"linear\", probability=True)\n",
    "}\n",
    "\n",
    "# Train and evaluate each model\n",
    "results = {}\n",
    "for name, model in models.items():\n",
    "    print(f\"\\n🚀 Training {name}...\")\n",
    "    model.fit(X_train, y_train)\n",
    "    y_pred = model.predict(X_test)\n",
    "\n",
    "    # Calculate metrics\n",
    "    accuracy = accuracy_score(y_test, y_pred)\n",
    "    precision = precision_score(y_test, y_pred)\n",
    "    recall = recall_score(y_test, y_pred)\n",
    "    f1 = f1_score(y_test, y_pred)\n",
    "\n",
    "    results[name] = {\n",
    "        \"Accuracy\": accuracy,\n",
    "        \"Precision\": precision,\n",
    "        \"Recall\": recall,\n",
    "        \"F1 Score\": f1\n",
    "    }\n",
    "\n",
    "    print(f\"✅ {name} Results:\")\n",
    "    print(f\"  📊 Accuracy: {accuracy:.4f}\")\n",
    "    print(f\"  🎯 Precision: {precision:.4f}\")\n",
    "    print(f\"  🔄 Recall: {recall:.4f}\")\n",
    "    print(f\"  🏆 F1 Score: {f1:.4f}\")\n",
    "\n",
    "# Convert results to DataFrame and display\n",
    "results_df = pd.DataFrame(results).T\n",
    "print(\"\\n📊 Model Performance Comparison:\\n\")\n",
    "print(results_df)\n"
   ]
  },
  {
   "cell_type": "code",
   "execution_count": 5,
   "metadata": {},
   "outputs": [
    {
     "name": "stdout",
     "output_type": "stream",
     "text": [
      "🎯 Best Model (XGBoost) Saved at: /Volumes/T7/Capstone Proj/kagg/models_1/modelsbest_model_XGBoost.pkl\n"
     ]
    }
   ],
   "source": [
    "import joblib\n",
    "\n",
    "# Save the best model\n",
    "model_save_path = \"/Volumes/T7/Capstone Proj/kagg/models_1/modelsbest_model_XGBoost.pkl\"\n",
    "joblib.dump(models[\"XGBoost\"], model_save_path)\n",
    "\n",
    "print(f\"🎯 Best Model (XGBoost) Saved at: {model_save_path}\")\n"
   ]
  },
  {
   "cell_type": "markdown",
   "metadata": {},
   "source": [
    "# 🚀 Deep Learning Model Training Plan"
   ]
  },
  {
   "cell_type": "code",
   "execution_count": 6,
   "metadata": {},
   "outputs": [
    {
     "name": "stdout",
     "output_type": "stream",
     "text": [
      "✅ Loaded Features: (39145, 181)\n",
      "✅ Loaded Labels: (39145,)\n",
      "✅ Data Split: 31316 train, 7829 test\n"
     ]
    }
   ],
   "source": [
    "import numpy as np\n",
    "import joblib\n",
    "from sklearn.model_selection import train_test_split\n",
    "from tensorflow.keras.utils import to_categorical\n",
    "\n",
    "# Load extracted features\n",
    "features_file = \"/Volumes/T7/Capstone Proj/kagg/extracted_features.pkl\"\n",
    "X, y = joblib.load(features_file)\n",
    "\n",
    "print(f\"✅ Loaded Features: {X.shape}\")\n",
    "print(f\"✅ Loaded Labels: {y.shape}\")\n",
    "\n",
    "# Normalize features\n",
    "X = X / np.max(np.abs(X), axis=0)  # Normalize for stability\n",
    "\n",
    "# Convert labels to categorical for DL models\n",
    "y_categorical = to_categorical(y, num_classes=2)\n",
    "\n",
    "# Train-Test Split\n",
    "X_train, X_test, y_train, y_test = train_test_split(X, y_categorical, test_size=0.2, random_state=42)\n",
    "\n",
    "print(f\"✅ Data Split: {X_train.shape[0]} train, {X_test.shape[0]} test\")\n"
   ]
  },
  {
   "cell_type": "code",
   "execution_count": 7,
   "metadata": {},
   "outputs": [
    {
     "name": "stdout",
     "output_type": "stream",
     "text": [
      "Epoch 1/20\n"
     ]
    },
    {
     "name": "stderr",
     "output_type": "stream",
     "text": [
      "2025-03-16 18:00:38.909140: W tensorflow/tsl/platform/profile_utils/cpu_utils.cc:128] Failed to get CPU frequency: 0 Hz\n"
     ]
    },
    {
     "name": "stdout",
     "output_type": "stream",
     "text": [
      "979/979 [==============================] - 1s 1ms/step - loss: 0.2202 - accuracy: 0.9111 - val_loss: 0.0863 - val_accuracy: 0.9720\n",
      "Epoch 2/20\n",
      "979/979 [==============================] - 1s 1ms/step - loss: 0.1036 - accuracy: 0.9641 - val_loss: 0.0643 - val_accuracy: 0.9769\n",
      "Epoch 3/20\n",
      "979/979 [==============================] - 1s 990us/step - loss: 0.0838 - accuracy: 0.9710 - val_loss: 0.0519 - val_accuracy: 0.9825\n",
      "Epoch 4/20\n",
      "979/979 [==============================] - 1s 1ms/step - loss: 0.0708 - accuracy: 0.9751 - val_loss: 0.0446 - val_accuracy: 0.9856\n",
      "Epoch 5/20\n",
      "979/979 [==============================] - 1s 1ms/step - loss: 0.0652 - accuracy: 0.9770 - val_loss: 0.0507 - val_accuracy: 0.9819\n",
      "Epoch 6/20\n",
      "979/979 [==============================] - 1s 1ms/step - loss: 0.0588 - accuracy: 0.9805 - val_loss: 0.0370 - val_accuracy: 0.9885\n",
      "Epoch 7/20\n",
      "979/979 [==============================] - 1s 1ms/step - loss: 0.0569 - accuracy: 0.9815 - val_loss: 0.0340 - val_accuracy: 0.9888\n",
      "Epoch 8/20\n",
      "979/979 [==============================] - 1s 1ms/step - loss: 0.0511 - accuracy: 0.9825 - val_loss: 0.0318 - val_accuracy: 0.9891\n",
      "Epoch 9/20\n",
      "979/979 [==============================] - 1s 1ms/step - loss: 0.0492 - accuracy: 0.9834 - val_loss: 0.0327 - val_accuracy: 0.9891\n",
      "Epoch 10/20\n",
      "979/979 [==============================] - 1s 971us/step - loss: 0.0474 - accuracy: 0.9843 - val_loss: 0.0346 - val_accuracy: 0.9890\n",
      "Epoch 11/20\n",
      "979/979 [==============================] - 1s 1ms/step - loss: 0.0431 - accuracy: 0.9857 - val_loss: 0.0290 - val_accuracy: 0.9907\n",
      "Epoch 12/20\n",
      "979/979 [==============================] - 1s 1ms/step - loss: 0.0427 - accuracy: 0.9864 - val_loss: 0.0281 - val_accuracy: 0.9914\n",
      "Epoch 13/20\n",
      "979/979 [==============================] - 1s 1ms/step - loss: 0.0410 - accuracy: 0.9861 - val_loss: 0.0246 - val_accuracy: 0.9926\n",
      "Epoch 14/20\n",
      "979/979 [==============================] - 1s 1ms/step - loss: 0.0408 - accuracy: 0.9863 - val_loss: 0.0309 - val_accuracy: 0.9902\n",
      "Epoch 15/20\n",
      "979/979 [==============================] - 1s 1ms/step - loss: 0.0380 - accuracy: 0.9872 - val_loss: 0.0266 - val_accuracy: 0.9926\n",
      "Epoch 16/20\n",
      "979/979 [==============================] - 1s 980us/step - loss: 0.0364 - accuracy: 0.9875 - val_loss: 0.0275 - val_accuracy: 0.9909\n",
      "Epoch 17/20\n",
      "979/979 [==============================] - 1s 1ms/step - loss: 0.0348 - accuracy: 0.9882 - val_loss: 0.0318 - val_accuracy: 0.9914\n",
      "Epoch 18/20\n",
      "979/979 [==============================] - 1s 1ms/step - loss: 0.0356 - accuracy: 0.9886 - val_loss: 0.0256 - val_accuracy: 0.9923\n",
      "Epoch 19/20\n",
      "979/979 [==============================] - 1s 1ms/step - loss: 0.0321 - accuracy: 0.9890 - val_loss: 0.0246 - val_accuracy: 0.9931\n",
      "Epoch 20/20\n",
      "979/979 [==============================] - 1s 1ms/step - loss: 0.0317 - accuracy: 0.9891 - val_loss: 0.0340 - val_accuracy: 0.9889\n"
     ]
    }
   ],
   "source": [
    "from tensorflow.keras.models import Sequential\n",
    "from tensorflow.keras.layers import Dense, Dropout\n",
    "\n",
    "# Define DNN Model\n",
    "model_dnn = Sequential([\n",
    "    Dense(128, activation='relu', input_shape=(X_train.shape[1],)),\n",
    "    Dropout(0.5),\n",
    "    Dense(256, activation='relu'),\n",
    "    Dropout(0.5),\n",
    "    Dense(128, activation='relu'),\n",
    "    Dropout(0.5),\n",
    "    Dense(2, activation='softmax')  # 2 classes (Real/Fake)\n",
    "])\n",
    "\n",
    "# Compile Model\n",
    "model_dnn.compile(optimizer='adam', loss='categorical_crossentropy', metrics=['accuracy'])\n",
    "\n",
    "# Train Model\n",
    "history_dnn = model_dnn.fit(X_train, y_train, validation_data=(X_test, y_test), epochs=20, batch_size=32)\n"
   ]
  },
  {
   "cell_type": "code",
   "execution_count": 8,
   "metadata": {},
   "outputs": [
    {
     "name": "stdout",
     "output_type": "stream",
     "text": [
      "Epoch 1/20\n",
      "979/979 [==============================] - 5s 5ms/step - loss: 0.1793 - accuracy: 0.9282 - val_loss: 0.0930 - val_accuracy: 0.9659\n",
      "Epoch 2/20\n",
      "979/979 [==============================] - 5s 5ms/step - loss: 0.0814 - accuracy: 0.9707 - val_loss: 0.0689 - val_accuracy: 0.9761\n",
      "Epoch 3/20\n",
      "979/979 [==============================] - 5s 5ms/step - loss: 0.0621 - accuracy: 0.9776 - val_loss: 0.0670 - val_accuracy: 0.9775\n",
      "Epoch 4/20\n",
      "979/979 [==============================] - 5s 6ms/step - loss: 0.0497 - accuracy: 0.9818 - val_loss: 0.0480 - val_accuracy: 0.9822\n",
      "Epoch 5/20\n",
      "979/979 [==============================] - 6s 6ms/step - loss: 0.0411 - accuracy: 0.9848 - val_loss: 0.0393 - val_accuracy: 0.9866\n",
      "Epoch 6/20\n",
      "979/979 [==============================] - 6s 6ms/step - loss: 0.0361 - accuracy: 0.9871 - val_loss: 0.0427 - val_accuracy: 0.9863\n",
      "Epoch 7/20\n",
      "979/979 [==============================] - 6s 6ms/step - loss: 0.0321 - accuracy: 0.9886 - val_loss: 0.0356 - val_accuracy: 0.9884\n",
      "Epoch 8/20\n",
      "979/979 [==============================] - 5s 5ms/step - loss: 0.0288 - accuracy: 0.9898 - val_loss: 0.0341 - val_accuracy: 0.9898\n",
      "Epoch 9/20\n",
      "979/979 [==============================] - 5s 5ms/step - loss: 0.0261 - accuracy: 0.9914 - val_loss: 0.0353 - val_accuracy: 0.9885\n",
      "Epoch 10/20\n",
      "979/979 [==============================] - 5s 5ms/step - loss: 0.0217 - accuracy: 0.9925 - val_loss: 0.0287 - val_accuracy: 0.9911\n",
      "Epoch 11/20\n",
      "979/979 [==============================] - 5s 6ms/step - loss: 0.0227 - accuracy: 0.9923 - val_loss: 0.0319 - val_accuracy: 0.9918\n",
      "Epoch 12/20\n",
      "979/979 [==============================] - 5s 5ms/step - loss: 0.0198 - accuracy: 0.9934 - val_loss: 0.0308 - val_accuracy: 0.9913\n",
      "Epoch 13/20\n",
      "979/979 [==============================] - 5s 5ms/step - loss: 0.0172 - accuracy: 0.9942 - val_loss: 0.0295 - val_accuracy: 0.9926\n",
      "Epoch 14/20\n",
      "979/979 [==============================] - 6s 6ms/step - loss: 0.0151 - accuracy: 0.9945 - val_loss: 0.0284 - val_accuracy: 0.9925\n",
      "Epoch 15/20\n",
      "979/979 [==============================] - 5s 6ms/step - loss: 0.0157 - accuracy: 0.9942 - val_loss: 0.0331 - val_accuracy: 0.9904\n",
      "Epoch 16/20\n",
      "979/979 [==============================] - 5s 5ms/step - loss: 0.0166 - accuracy: 0.9942 - val_loss: 0.0250 - val_accuracy: 0.9937\n",
      "Epoch 17/20\n",
      "979/979 [==============================] - 5s 5ms/step - loss: 0.0114 - accuracy: 0.9960 - val_loss: 0.0307 - val_accuracy: 0.9922\n",
      "Epoch 18/20\n",
      "979/979 [==============================] - 5s 5ms/step - loss: 0.0133 - accuracy: 0.9953 - val_loss: 0.0265 - val_accuracy: 0.9911\n",
      "Epoch 19/20\n",
      "979/979 [==============================] - 5s 6ms/step - loss: 0.0121 - accuracy: 0.9958 - val_loss: 0.0296 - val_accuracy: 0.9925\n",
      "Epoch 20/20\n",
      "979/979 [==============================] - 6s 6ms/step - loss: 0.0106 - accuracy: 0.9963 - val_loss: 0.0283 - val_accuracy: 0.9937\n"
     ]
    }
   ],
   "source": [
    "from tensorflow.keras.layers import Conv1D, MaxPooling1D, Flatten\n",
    "\n",
    "# Reshape X for CNN (add extra dimension)\n",
    "X_train_cnn = X_train[..., np.newaxis]\n",
    "X_test_cnn = X_test[..., np.newaxis]\n",
    "\n",
    "# Define CNN Model\n",
    "model_cnn = Sequential([\n",
    "    Conv1D(64, kernel_size=3, activation='relu', input_shape=(X_train.shape[1], 1)),\n",
    "    MaxPooling1D(pool_size=2),\n",
    "    Conv1D(128, kernel_size=3, activation='relu'),\n",
    "    MaxPooling1D(pool_size=2),\n",
    "    Flatten(),\n",
    "    Dense(128, activation='relu'),\n",
    "    Dropout(0.5),\n",
    "    Dense(2, activation='softmax')\n",
    "])\n",
    "\n",
    "# Compile Model\n",
    "model_cnn.compile(optimizer='adam', loss='categorical_crossentropy', metrics=['accuracy'])\n",
    "\n",
    "# Train Model\n",
    "history_cnn = model_cnn.fit(X_train_cnn, y_train, validation_data=(X_test_cnn, y_test), epochs=20, batch_size=32)\n"
   ]
  },
  {
   "cell_type": "code",
   "execution_count": 9,
   "metadata": {},
   "outputs": [
    {
     "name": "stdout",
     "output_type": "stream",
     "text": [
      "Epoch 1/20\n",
      "979/979 [==============================] - 128s 130ms/step - loss: 0.6031 - accuracy: 0.6392 - val_loss: 0.5804 - val_accuracy: 0.6964\n",
      "Epoch 2/20\n",
      "979/979 [==============================] - 129s 132ms/step - loss: 0.5352 - accuracy: 0.7326 - val_loss: 0.5052 - val_accuracy: 0.7523\n",
      "Epoch 3/20\n",
      "979/979 [==============================] - 134s 137ms/step - loss: 0.4853 - accuracy: 0.7675 - val_loss: 0.3753 - val_accuracy: 0.8304\n",
      "Epoch 4/20\n",
      "979/979 [==============================] - 132s 134ms/step - loss: 0.3689 - accuracy: 0.8380 - val_loss: 0.2622 - val_accuracy: 0.8945\n",
      "Epoch 5/20\n",
      "979/979 [==============================] - 117s 119ms/step - loss: 0.2723 - accuracy: 0.8932 - val_loss: 0.2300 - val_accuracy: 0.9135\n",
      "Epoch 6/20\n",
      "979/979 [==============================] - 117s 120ms/step - loss: 0.2371 - accuracy: 0.9092 - val_loss: 0.2056 - val_accuracy: 0.9214\n",
      "Epoch 7/20\n",
      "979/979 [==============================] - 122s 125ms/step - loss: 0.2194 - accuracy: 0.9160 - val_loss: 0.2323 - val_accuracy: 0.9029\n",
      "Epoch 8/20\n",
      "979/979 [==============================] - 122s 124ms/step - loss: 0.2078 - accuracy: 0.9208 - val_loss: 0.1934 - val_accuracy: 0.9222\n",
      "Epoch 9/20\n",
      "979/979 [==============================] - 121s 124ms/step - loss: 0.1953 - accuracy: 0.9269 - val_loss: 0.1881 - val_accuracy: 0.9235\n",
      "Epoch 10/20\n",
      "979/979 [==============================] - 123s 125ms/step - loss: 0.1772 - accuracy: 0.9331 - val_loss: 0.1958 - val_accuracy: 0.9260\n",
      "Epoch 11/20\n",
      "979/979 [==============================] - 121s 124ms/step - loss: 0.1640 - accuracy: 0.9399 - val_loss: 0.1480 - val_accuracy: 0.9439\n",
      "Epoch 12/20\n",
      "979/979 [==============================] - 121s 123ms/step - loss: 0.1521 - accuracy: 0.9454 - val_loss: 0.1717 - val_accuracy: 0.9301\n",
      "Epoch 13/20\n",
      "979/979 [==============================] - 122s 125ms/step - loss: 0.1336 - accuracy: 0.9507 - val_loss: 0.1369 - val_accuracy: 0.9494\n",
      "Epoch 14/20\n",
      "979/979 [==============================] - 121s 123ms/step - loss: 0.1263 - accuracy: 0.9550 - val_loss: 0.1230 - val_accuracy: 0.9555\n",
      "Epoch 15/20\n",
      "979/979 [==============================] - 122s 124ms/step - loss: 0.1179 - accuracy: 0.9583 - val_loss: 0.1666 - val_accuracy: 0.9405\n",
      "Epoch 16/20\n",
      "979/979 [==============================] - 122s 124ms/step - loss: 0.1092 - accuracy: 0.9608 - val_loss: 0.1058 - val_accuracy: 0.9624\n",
      "Epoch 17/20\n",
      "979/979 [==============================] - 121s 123ms/step - loss: 0.1116 - accuracy: 0.9622 - val_loss: 0.1018 - val_accuracy: 0.9650\n",
      "Epoch 18/20\n",
      "979/979 [==============================] - 121s 123ms/step - loss: 0.0975 - accuracy: 0.9656 - val_loss: 0.1314 - val_accuracy: 0.9552\n",
      "Epoch 19/20\n",
      "979/979 [==============================] - 121s 124ms/step - loss: 0.0968 - accuracy: 0.9662 - val_loss: 0.0883 - val_accuracy: 0.9715\n",
      "Epoch 20/20\n",
      "979/979 [==============================] - 120s 123ms/step - loss: 0.0937 - accuracy: 0.9671 - val_loss: 0.1031 - val_accuracy: 0.9659\n"
     ]
    }
   ],
   "source": [
    "from tensorflow.keras.layers import LSTM, Reshape\n",
    "\n",
    "# Reshape X for LSTM (time-series format)\n",
    "X_train_lstm = X_train.reshape(X_train.shape[0], X_train.shape[1], 1)\n",
    "X_test_lstm = X_test.reshape(X_test.shape[0], X_test.shape[1], 1)\n",
    "\n",
    "# Define LSTM Model\n",
    "model_lstm = Sequential([\n",
    "    LSTM(128, return_sequences=True, input_shape=(X_train.shape[1], 1)),\n",
    "    LSTM(64, return_sequences=False),\n",
    "    Dense(128, activation='relu'),\n",
    "    Dropout(0.5),\n",
    "    Dense(2, activation='softmax')\n",
    "])\n",
    "\n",
    "# Compile Model\n",
    "model_lstm.compile(optimizer='adam', loss='categorical_crossentropy', metrics=['accuracy'])\n",
    "\n",
    "# Train Model\n",
    "history_lstm = model_lstm.fit(X_train_lstm, y_train, validation_data=(X_test_lstm, y_test), epochs=20, batch_size=32)\n"
   ]
  },
  {
   "cell_type": "code",
   "execution_count": 10,
   "metadata": {},
   "outputs": [
    {
     "name": "stdout",
     "output_type": "stream",
     "text": [
      "\n",
      "📊 Evaluating Models:\n",
      "📌 DNN Model:\n",
      "245/245 [==============================] - 0s 376us/step - loss: 0.0340 - accuracy: 0.9889\n",
      "✅ Test Accuracy: 0.9889\n",
      "\n",
      "📌 CNN Model:\n",
      "245/245 [==============================] - 0s 1ms/step - loss: 0.0283 - accuracy: 0.9937\n",
      "✅ Test Accuracy: 0.9937\n",
      "\n",
      "📌 LSTM Model:\n",
      "245/245 [==============================] - 9s 38ms/step - loss: 0.1031 - accuracy: 0.9659\n",
      "✅ Test Accuracy: 0.9659\n"
     ]
    }
   ],
   "source": [
    "def evaluate_model(model, X_test, y_test):\n",
    "    loss, accuracy = model.evaluate(X_test, y_test)\n",
    "    print(f\"✅ Test Accuracy: {accuracy:.4f}\")\n",
    "\n",
    "print(\"\\n📊 Evaluating Models:\")\n",
    "print(\"📌 DNN Model:\")\n",
    "evaluate_model(model_dnn, X_test, y_test)\n",
    "\n",
    "print(\"\\n📌 CNN Model:\")\n",
    "evaluate_model(model_cnn, X_test_cnn, y_test)\n",
    "\n",
    "print(\"\\n📌 LSTM Model:\")\n",
    "evaluate_model(model_lstm, X_test_lstm, y_test)\n"
   ]
  }
 ],
 "metadata": {
  "kernelspec": {
   "display_name": "Python 3",
   "language": "python",
   "name": "python3"
  },
  "language_info": {
   "codemirror_mode": {
    "name": "ipython",
    "version": 3
   },
   "file_extension": ".py",
   "mimetype": "text/x-python",
   "name": "python",
   "nbconvert_exporter": "python",
   "pygments_lexer": "ipython3",
   "version": "3.10.8"
  }
 },
 "nbformat": 4,
 "nbformat_minor": 2
}
