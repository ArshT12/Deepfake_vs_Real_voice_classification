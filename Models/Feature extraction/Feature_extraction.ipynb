{
 "cells": [
  {
   "cell_type": "code",
   "execution_count": 6,
   "metadata": {},
   "outputs": [
    {
     "name": "stderr",
     "output_type": "stream",
     "text": [
      "Processing label 1 folder: 100%|██████████| 391/391 [05:51<00:00,  1.11it/s]\n",
      "Processing label 0 folder: 100%|██████████| 268/268 [03:48<00:00,  1.17it/s]"
     ]
    },
    {
     "name": "stdout",
     "output_type": "stream",
     "text": [
      "\n",
      "✅ Combined feature extraction complete. Saved to: /Volumes/T7/Capstone Proj/Model_1/Models/Feature extraction/features_combined.csv\n"
     ]
    },
    {
     "name": "stderr",
     "output_type": "stream",
     "text": [
      "\n"
     ]
    }
   ],
   "source": [
    "import os\n",
    "import librosa\n",
    "import numpy as np\n",
    "import pandas as pd\n",
    "from tqdm import tqdm\n",
    "\n",
    "# === RELATIVE PATH SETUP FOR JUPYTER ===\n",
    "base_dir = os.getcwd()  # Gets current working directory (works in Jupyter)\n",
    "data_folder = os.path.join(base_dir, \"..\", \"..\", \"A_data\")\n",
    "real_folder = os.path.join(data_folder, \"real\")\n",
    "fake_folder = os.path.join(data_folder, \"fake\")\n",
    "output_csv = os.path.join(base_dir, \"features_combined.csv\")  # Output CSV filename\n",
    "\n",
    "# === FEATURE EXTRACTION FUNCTION ===\n",
    "def extract_features(filepath):\n",
    "    try:\n",
    "        y, sr = librosa.load(filepath, sr=None)\n",
    "\n",
    "        # MFCCs (13 coefficients)\n",
    "        mfccs = librosa.feature.mfcc(y=y, sr=sr, n_mfcc=13)\n",
    "        mfccs_mean = np.mean(mfccs, axis=1)\n",
    "        mfccs_std = np.std(mfccs, axis=1)\n",
    "\n",
    "        # Zero Crossing Rate\n",
    "        zcr = librosa.feature.zero_crossing_rate(y)\n",
    "        zcr_mean = np.mean(zcr)\n",
    "\n",
    "        # Root Mean Square Energy\n",
    "        rms = librosa.feature.rms(y=y)\n",
    "        rms_mean = np.mean(rms)\n",
    "\n",
    "        features = list(mfccs_mean) + list(mfccs_std) + [zcr_mean, rms_mean]\n",
    "        return features\n",
    "    except Exception as e:\n",
    "        print(f\"⚠️ Skipping file {filepath} due to error: {e}\")\n",
    "        return None\n",
    "\n",
    "# === PROCESS FILES FUNCTION ===\n",
    "def process_folder(folder_path, label):\n",
    "    data = []\n",
    "    for filename in tqdm(os.listdir(folder_path), desc=f\"Processing label {label} folder\"):\n",
    "        if filename.endswith(\".wav\") and not filename.startswith(\"._\"):\n",
    "            filepath = os.path.join(folder_path, filename)\n",
    "            features = extract_features(filepath)\n",
    "            if features:\n",
    "                features.append(label)\n",
    "                data.append(features)\n",
    "    return data\n",
    "\n",
    "# === COMBINE DATA ===\n",
    "all_data = process_folder(real_folder, 1)  # 1 = Real\n",
    "all_data += process_folder(fake_folder, 0)  # 0 = Fake\n",
    "\n",
    "columns = [f\"mfcc_mean_{i+1}\" for i in range(13)] + \\\n",
    "          [f\"mfcc_std_{i+1}\" for i in range(13)] + \\\n",
    "          [\"zcr\", \"rms\", \"label\"]\n",
    "\n",
    "# === SAVE TO CSV ===\n",
    "df = pd.DataFrame(all_data, columns=columns)\n",
    "df.to_csv(output_csv, index=False)\n",
    "\n",
    "print(f\"\\n✅ Combined feature extraction complete. Saved to: {output_csv}\")"
   ]
  }
 ],
 "metadata": {
  "kernelspec": {
   "display_name": "Python 3",
   "language": "python",
   "name": "python3"
  },
  "language_info": {
   "codemirror_mode": {
    "name": "ipython",
    "version": 3
   },
   "file_extension": ".py",
   "mimetype": "text/x-python",
   "name": "python",
   "nbconvert_exporter": "python",
   "pygments_lexer": "ipython3",
   "version": "3.10.8"
  }
 },
 "nbformat": 4,
 "nbformat_minor": 2
}
